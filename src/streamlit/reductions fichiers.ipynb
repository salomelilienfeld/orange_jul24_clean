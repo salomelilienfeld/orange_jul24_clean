{
 "cells": [
  {
   "cell_type": "code",
   "execution_count": 4,
   "id": "70928bf4",
   "metadata": {},
   "outputs": [],
   "source": [
    "import pandas as pd\n",
    "\n",
    "df = pd.read_csv(\"C:/Github/orange_jul24_clean/src/streamlit/data/accidents_graphiques_multi.csv\")"
   ]
  },
  {
   "cell_type": "code",
   "execution_count": 16,
   "id": "3c1ba8ce",
   "metadata": {},
   "outputs": [],
   "source": [
    "from sklearn.model_selection import train_test_split\n",
    "\n",
    "df_sample, _ = train_test_split(df, test_size=0.8, stratify=df[\"gravite\"], random_state=42)\n",
    "\n",
    "df_sample.shape\n",
    "\n",
    "df_sample.to_csv(\"C:/Github/orange_jul24_clean/src/streamlit/data/accidents_graphiques_multi.csv\",index=False)"
   ]
  },
  {
   "cell_type": "code",
   "execution_count": 15,
   "id": "70cd0640",
   "metadata": {},
   "outputs": [],
   "source": [
    "\n",
    "df = pd.read_csv(\"C:/Github/orange_jul24_clean/src/streamlit/data/accidents_graphiques.csv\")\n",
    "df.dropna(subset=['gravite'],inplace=True)\n",
    "df_sample, _ = train_test_split(df, test_size=0.8, stratify=df[\"gravite\"], random_state=42)\n",
    "\n",
    "df_sample.shape\n",
    "\n",
    "df_sample.to_csv(\"C:/Github/orange_jul24_clean/src/streamlit/data/accidents_graphiques.csv\",index=False)"
   ]
  },
  {
   "cell_type": "code",
   "execution_count": 14,
   "id": "524cc31a",
   "metadata": {},
   "outputs": [
    {
     "data": {
      "text/plain": [
       "Index(['lum', 'surf', 'secu1', 'catv_cat_s', 'dep', 'accident_type', 'obs',\n",
       "       'agg', 'vma_cat', 'obsm', 'catr', 'motor', 'sexe', 'age_cat', 'col',\n",
       "       'choc', 'place', 'gravite'],\n",
       "      dtype='object')"
      ]
     },
     "execution_count": 14,
     "metadata": {},
     "output_type": "execute_result"
    }
   ],
   "source": [
    "df_sample.columns"
   ]
  },
  {
   "cell_type": "code",
   "execution_count": null,
   "id": "88562416",
   "metadata": {},
   "outputs": [],
   "source": []
  }
 ],
 "metadata": {
  "kernelspec": {
   "display_name": "Python 3",
   "language": "python",
   "name": "python3"
  },
  "language_info": {
   "codemirror_mode": {
    "name": "ipython",
    "version": 3
   },
   "file_extension": ".py",
   "mimetype": "text/x-python",
   "name": "python",
   "nbconvert_exporter": "python",
   "pygments_lexer": "ipython3",
   "version": "3.13.1"
  }
 },
 "nbformat": 4,
 "nbformat_minor": 5
}
